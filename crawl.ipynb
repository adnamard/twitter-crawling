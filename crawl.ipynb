{
 "cells": [
  {
   "cell_type": "code",
   "execution_count": null,
   "metadata": {},
   "outputs": [],
   "source": [
    "# Install Node.js (because tweet-harvest built using Node.js)\n",
    "!sudo apt-get update\n",
    "!sudo apt-get install -y ca-certificates curl gnupg\n",
    "!sudo mkdir -p /etc/apt/keyrings\n",
    "!curl -fsSL https://deb.nodesource.com/gpgkey/nodesource-repo.gpg.key | sudo gpg --dearmor -o /etc/apt/keyrings/nodesource.gpg\n",
    "\n",
    "!NODE_MAJOR=20 && echo \"deb [signed-by=/etc/apt/keyrings/nodesource.gpg] https://deb.nodesource.com/node_$NODE_MAJOR.x nodistro main\" | sudo tee /etc/apt/sources.list.d/nodesource.list\n",
    "\n",
    "!sudo apt-get update\n",
    "!sudo apt-get install nodejs -y\n",
    "\n",
    "!node -v"
   ]
  },
  {
   "cell_type": "code",
   "execution_count": null,
   "metadata": {},
   "outputs": [],
   "source": [
    "#Twitter Auth Token\n",
    "auth = 'replace with your own twitter auth token' \n",
    "data = \"replace with file name that you want.csv\"\n",
    "search_keyword = \"replace with keyword you want to search\"\n",
    "limit = 1500\n",
    "\n",
    "!npx --yes tweet-harvest@2.3.0 -o \"{data}\" -s \"{search_keyword}\" -l {limit} --token {auth}\n",
    "#Example\n",
    "'''\n",
    "data = \"idioms.csv\"\n",
    "search_keyword = \"from:@BruceEmond idioms from:2022-01-01 until:2023-01-01\"\n",
    "limit = 1500\n",
    "\n",
    "!npx --yes tweet-harvest@2.3.0 -o \"{data}\" -s \"{search_keyword}\" -l {limit} --token {auth}\n",
    "\n",
    "'''"
   ]
  },
  {
   "cell_type": "code",
   "execution_count": null,
   "metadata": {},
   "outputs": [],
   "source": [
    "#Read data\n",
    "import pandas as pd\n",
    "\n",
    "df = pd.read_csv('tweets-data/idiom.csv', sep=';')"
   ]
  }
 ],
 "metadata": {
  "kernelspec": {
   "display_name": "Python 3",
   "language": "python",
   "name": "python3"
  },
  "language_info": {
   "codemirror_mode": {
    "name": "ipython",
    "version": 3
   },
   "file_extension": ".py",
   "mimetype": "text/x-python",
   "name": "python",
   "nbconvert_exporter": "python",
   "pygments_lexer": "ipython3",
   "version": "3.12.0"
  }
 },
 "nbformat": 4,
 "nbformat_minor": 2
}
